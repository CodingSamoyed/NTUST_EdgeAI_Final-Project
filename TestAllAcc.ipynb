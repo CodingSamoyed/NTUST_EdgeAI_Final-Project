{
 "cells": [
  {
   "cell_type": "code",
   "execution_count": 5,
   "metadata": {},
   "outputs": [],
   "source": [
    "import time\n",
    "import tensorflow as tf\n",
    "import numpy as np\n",
    "from tensorflow.keras.preprocessing.image import ImageDataGenerator\n",
    "from sklearn.metrics import accuracy_score"
   ]
  },
  {
   "cell_type": "code",
   "execution_count": 6,
   "metadata": {},
   "outputs": [],
   "source": [
    "def DataGenerator(file_path, batch_size):\n",
    "    \n",
    "    ImageData = ImageDataGenerator()\n",
    "    \n",
    "    data = ImageData.flow_from_directory(\n",
    "        file_path,\n",
    "        target_size=(224, 224),\n",
    "        color_mode='rgb',\n",
    "        classes={\n",
    "                 'Maltese_dog': 0,\n",
    "                 'golden_retriever': 1,\n",
    "                 'Labrador_retriever': 2,\n",
    "                 'collie': 3,\n",
    "                 'Border_collie': 4,\n",
    "                 'malamute': 5,\n",
    "                 'Siberian_husky': 6,\n",
    "                 'Samoyed': 7,\n",
    "                 },\n",
    "        class_mode='categorical',\n",
    "        batch_size=batch_size,\n",
    "        shuffle=True,\n",
    "    )\n",
    "    \n",
    "    return data"
   ]
  },
  {
   "cell_type": "code",
   "execution_count": 7,
   "metadata": {},
   "outputs": [
    {
     "name": "stdout",
     "output_type": "stream",
     "text": [
      "Found 40 images belonging to 8 classes.\n"
     ]
    }
   ],
   "source": [
    "test_dataset = DataGenerator(file_path = 'Test', batch_size=8)"
   ]
  },
  {
   "cell_type": "code",
   "execution_count": 8,
   "metadata": {},
   "outputs": [
    {
     "name": "stdout",
     "output_type": "stream",
     "text": [
      "5/5 [==============================] - 2s 188ms/step - loss: 0.6505 - accuracy: 0.8000\n",
      "Model_S Accuracy(original): 80.00%\n",
      "Model_S Time(original): 2.5704598426818848\n",
      "Model_S Accuracy(Lite): 80.00%\n",
      "Model_S Time(Lite): 2.445549726486206\n",
      "5/5 [==============================] - 2s 189ms/step - loss: 0.4941 - accuracy: 0.8500\n",
      "Model_M Accuracy(original): 85.00%\n",
      "Model_M Time(original): 2.5411415100097656\n",
      "Model_M Accuracy(Lite): 80.00%\n",
      "Model_M Time(Lite): 2.4545533657073975\n",
      "5/5 [==============================] - 2s 186ms/step - loss: 0.4369 - accuracy: 0.8750\n",
      "Model_H Accuracy(original): 87.50%\n",
      "Model_H Time(original): 2.55008864402771\n",
      "Model_H Accuracy(Lite): 87.50%\n",
      "Model_H Time(Lite): 2.4155397415161133\n"
     ]
    }
   ],
   "source": [
    "for model_name in [\"Model_S\", \"Model_M\", \"Model_H\"]:\n",
    "\n",
    "    model_path = model_name\n",
    "    model = tf.keras.models.load_model(model_path)\n",
    "\n",
    "    t1 = time.time()\n",
    "    test_result = model.evaluate(test_dataset)\n",
    "    t2 = time.time()\n",
    "\n",
    "    print(f\"{model_name} Accuracy(original): {test_result[1]:.2%}\") #1是accuracy, 0是loss\n",
    "    print(f\"{model_name} Time(original): {t2-t1}\")\n",
    "\n",
    "    def Dataset2Numpy(dataset):\n",
    "        \n",
    "        y = []\n",
    "        x = []\n",
    "\n",
    "        for i in range(len(dataset)):\n",
    "            x.append(dataset[i][0]) \n",
    "            y.append(dataset[i][1])\n",
    "            \n",
    "        x = np.concatenate((x),axis=0)\n",
    "        y = np.concatenate((y),axis=0)\n",
    "        x = np.expand_dims(x, axis=1)\n",
    "        \n",
    "        return x, y\n",
    "\n",
    "    x, y = Dataset2Numpy(test_dataset)\n",
    "\n",
    "\n",
    "    # 載入 SavedModel (TensorflowLit格式)\n",
    "\n",
    "    # Load the TFLite model and allocate tensors.\n",
    "    interpreter = tf.lite.Interpreter(model_path=f\"{model_path}.tflite\")\n",
    "    interpreter.allocate_tensors()\n",
    "\n",
    "    # Get input and output tensors.\n",
    "    input_details = interpreter.get_input_details()\n",
    "    output_details = interpreter.get_output_details()\n",
    "\n",
    "    y_pred = []\n",
    "    y_true = []\n",
    "\n",
    "    # Test the model on random input data.\n",
    "    input_shape = input_details[0]['shape']\n",
    "\n",
    "    # The function `get_tensor()` returns a copy of the tensor data.\n",
    "    # Use `tensor()` in order to get a pointer to the tensor.\n",
    "\n",
    "    t1 = time.time()\n",
    "\n",
    "    for i in range(y.shape[0]):\n",
    "\n",
    "        interpreter.set_tensor(input_details[0]['index'], x[i])\n",
    "        interpreter.invoke()\n",
    "        output_data = interpreter.get_tensor(output_details[0]['index'])\n",
    "        pred = np.argmax(output_data)\n",
    "        y_pred.append(pred)\n",
    "        true = np.argmax(y[i])\n",
    "        y_true.append(true)\n",
    "\n",
    "    t2 = time.time()\n",
    "\n",
    "    acc = accuracy_score(y_true, y_pred)\n",
    "    print(f\"{model_name} Accuracy(Lite): {acc:.2%}\") #1是accuracy, 0是lo\n",
    "    print(f\"{model_name} Time(Lite): {t2-t1}\")\n"
   ]
  }
 ],
 "metadata": {
  "kernelspec": {
   "display_name": "Python 3",
   "language": "python",
   "name": "python3"
  },
  "language_info": {
   "codemirror_mode": {
    "name": "ipython",
    "version": 3
   },
   "file_extension": ".py",
   "mimetype": "text/x-python",
   "name": "python",
   "nbconvert_exporter": "python",
   "pygments_lexer": "ipython3",
   "version": "3.10.7"
  },
  "orig_nbformat": 4
 },
 "nbformat": 4,
 "nbformat_minor": 2
}
